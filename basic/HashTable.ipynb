{
 "cells": [
  {
   "cell_type": "code",
   "id": "initial_id",
   "metadata": {
    "collapsed": true,
    "ExecuteTime": {
     "end_time": "2025-01-23T04:35:28.964042Z",
     "start_time": "2025-01-23T04:35:28.948718Z"
    }
   },
   "source": [
    "class HashTable:\n",
    "    def __init__(self):\n",
    "        self.MAX = 100\n",
    "        self.arr = [None for i in range(self.MAX)]\n",
    "\n",
    "    def _get_hash(self, key) -> int:\n",
    "        h = 0\n",
    "        for char in key:\n",
    "            h += ord(char)\n",
    "        return h % self.MAX\n",
    "\n",
    "    def add(self, key, value):\n",
    "        h = self._get_hash(key)\n",
    "        self.arr[h] = value\n",
    "\n",
    "    def get(self, key):\n",
    "        h = self._get_hash(key)\n",
    "        return self.arr[h]"
   ],
   "outputs": [],
   "execution_count": 1
  },
  {
   "metadata": {},
   "cell_type": "code",
   "outputs": [],
   "execution_count": null,
   "source": "",
   "id": "a18f5f0a1dd37bfb"
  },
  {
   "metadata": {
    "ExecuteTime": {
     "end_time": "2025-01-23T04:53:50.909011Z",
     "start_time": "2025-01-23T04:53:50.829821Z"
    }
   },
   "cell_type": "code",
   "source": [
    "t = HashTable()\n",
    "t.add('march 9', 300)\n",
    "t.get('march 9')\n"
   ],
   "id": "8cfdcc31bfe86a5c",
   "outputs": [
    {
     "ename": "AttributeError",
     "evalue": "'HashTable' object has no attribute 'add'",
     "output_type": "error",
     "traceback": [
      "\u001B[0;31m---------------------------------------------------------------------------\u001B[0m",
      "\u001B[0;31mAttributeError\u001B[0m                            Traceback (most recent call last)",
      "Cell \u001B[0;32mIn[6], line 2\u001B[0m\n\u001B[1;32m      1\u001B[0m t \u001B[38;5;241m=\u001B[39m HashTable()\n\u001B[0;32m----> 2\u001B[0m \u001B[43mt\u001B[49m\u001B[38;5;241;43m.\u001B[39;49m\u001B[43madd\u001B[49m(\u001B[38;5;124m'\u001B[39m\u001B[38;5;124mmarch 9\u001B[39m\u001B[38;5;124m'\u001B[39m, \u001B[38;5;241m300\u001B[39m)\n\u001B[1;32m      3\u001B[0m t\u001B[38;5;241m.\u001B[39mget(\u001B[38;5;124m'\u001B[39m\u001B[38;5;124mmarch 9\u001B[39m\u001B[38;5;124m'\u001B[39m)\n",
      "\u001B[0;31mAttributeError\u001B[0m: 'HashTable' object has no attribute 'add'"
     ]
    }
   ],
   "execution_count": 6
  }
 ],
 "metadata": {
  "kernelspec": {
   "display_name": "Python 3",
   "language": "python",
   "name": "python3"
  },
  "language_info": {
   "codemirror_mode": {
    "name": "ipython",
    "version": 2
   },
   "file_extension": ".py",
   "mimetype": "text/x-python",
   "name": "python",
   "nbconvert_exporter": "python",
   "pygments_lexer": "ipython2",
   "version": "2.7.6"
  }
 },
 "nbformat": 4,
 "nbformat_minor": 5
}
